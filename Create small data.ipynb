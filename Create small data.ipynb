{
 "cells": [
  {
   "cell_type": "code",
   "execution_count": 1,
   "metadata": {},
   "outputs": [],
   "source": [
    "import xarray as xr\n",
    "from glob import glob\n",
    "import numpy as np\n",
    "import pickle"
   ]
  },
  {
   "cell_type": "code",
   "execution_count": 2,
   "metadata": {},
   "outputs": [
    {
     "data": {
      "text/plain": [
       "<xarray.Dataset>\n",
       "Dimensions:    (latitude: 141, longitude: 141, time: 350640)\n",
       "Coordinates:\n",
       "  * longitude  (longitude) float32 -10.0 -9.75 -9.5 -9.25 -9.0 -8.75 -8.5 ...\n",
       "  * latitude   (latitude) float32 67.5 67.25 67.0 66.75 66.5 66.25 66.0 ...\n",
       "  * time       (time) datetime64[ns] 1979-01-01 1979-01-01T01:00:00 ...\n",
       "Data variables:\n",
       "    r          (time, latitude, longitude) float32 dask.array<shape=(350640, 141, 141), chunksize=(11, 141, 141)>\n",
       "    q          (time, latitude, longitude) float32 dask.array<shape=(350640, 141, 141), chunksize=(11, 141, 141)>\n",
       "    msl        (time, latitude, longitude) float32 dask.array<shape=(350640, 141, 141), chunksize=(11, 141, 141)>\n",
       "Attributes:\n",
       "    Conventions:  CF-1.6\n",
       "    history:      2019-05-08 09:40:34 GMT by grib_to_netcdf-2.10.0: /opt/ecmw..."
      ]
     },
     "execution_count": 2,
     "metadata": {},
     "output_type": "execute_result"
    }
   ],
   "source": [
    "datapath_humidity=\"/raid/home/srvx7/lehre/users/a1400416/ERA5/humi*nc\"\n",
    "datapath_mslp=\"/raid/home/srvx7/lehre/users/a1400416/ERA5/mslp*.nc\"\n",
    "\n",
    "filenames=glob(datapath_humidity)\n",
    "infofile=xr.open_dataset(filenames[0])\n",
    "file=xr.concat([xr.open_dataset(path,chunks={\"time\":11,\"latitude\":141,\"longitude\":141}) for path in filenames],dim=\"time\")\n",
    "filenames=glob(datapath_mslp)\n",
    "file2=xr.concat([xr.open_dataset(path,chunks={\"time\":11,\"latitude\":141,\"longitude\":141}) for path in filenames],dim=\"time\")\n",
    "file[\"msl\"]=file2.msl\n",
    "file"
   ]
  },
  {
   "cell_type": "code",
   "execution_count": 3,
   "metadata": {},
   "outputs": [],
   "source": [
    "small_file=file.sel(latitude=np.arange(46,49),longitude=np.arange(11,14))"
   ]
  },
  {
   "cell_type": "code",
   "execution_count": 7,
   "metadata": {},
   "outputs": [
    {
     "data": {
      "text/plain": [
       "<xarray.Dataset>\n",
       "Dimensions:    (latitude: 3, longitude: 3, time: 350640)\n",
       "Coordinates:\n",
       "  * longitude  (longitude) float32 11.0 12.0 13.0\n",
       "  * latitude   (latitude) float32 46.0 47.0 48.0\n",
       "  * time       (time) datetime64[ns] 1979-01-01 1979-01-01T01:00:00 ...\n",
       "Data variables:\n",
       "    r          (time, latitude, longitude) float32 dask.array<shape=(350640, 3, 3), chunksize=(11, 3, 3)>\n",
       "    q          (time, latitude, longitude) float32 dask.array<shape=(350640, 3, 3), chunksize=(11, 3, 3)>\n",
       "    msl        (time, latitude, longitude) float32 dask.array<shape=(350640, 3, 3), chunksize=(11, 3, 3)>\n",
       "Attributes:\n",
       "    Conventions:  CF-1.6\n",
       "    history:      2019-05-08 09:40:34 GMT by grib_to_netcdf-2.10.0: /opt/ecmw..."
      ]
     },
     "execution_count": 7,
     "metadata": {},
     "output_type": "execute_result"
    }
   ],
   "source": [
    "small_file"
   ]
  },
  {
   "cell_type": "code",
   "execution_count": 9,
   "metadata": {},
   "outputs": [],
   "source": [
    "small_file=small_file.resample(time=\"1D\").mean(\"time\")"
   ]
  },
  {
   "cell_type": "code",
   "execution_count": 10,
   "metadata": {},
   "outputs": [
    {
     "data": {
      "text/plain": [
       "<xarray.Dataset>\n",
       "Dimensions:    (latitude: 3, longitude: 3, time: 14610)\n",
       "Coordinates:\n",
       "  * time       (time) datetime64[ns] 1979-01-01 1979-01-02 1979-01-03 ...\n",
       "  * longitude  (longitude) float32 11.0 12.0 13.0\n",
       "  * latitude   (latitude) float32 46.0 47.0 48.0\n",
       "Data variables:\n",
       "    r          (time, latitude, longitude) float32 dask.array<shape=(14610, 3, 3), chunksize=(1, 3, 3)>\n",
       "    q          (time, latitude, longitude) float32 dask.array<shape=(14610, 3, 3), chunksize=(1, 3, 3)>\n",
       "    msl        (time, latitude, longitude) float32 dask.array<shape=(14610, 3, 3), chunksize=(1, 3, 3)>"
      ]
     },
     "execution_count": 10,
     "metadata": {},
     "output_type": "execute_result"
    }
   ],
   "source": [
    "small_file"
   ]
  },
  {
   "cell_type": "code",
   "execution_count": 11,
   "metadata": {},
   "outputs": [
    {
     "name": "stderr",
     "output_type": "stream",
     "text": [
      "/opt/anaconda/lib/python2.7/site-packages/dask/utils.py:1014: UserWarning: Deprecated, see dask.base.get_scheduler instead\n",
      "  warnings.warn(\"Deprecated, see dask.base.get_scheduler instead\")\n"
     ]
    }
   ],
   "source": [
    "small_file.to_netcdf(\"./Daten/small_daily_data.nc\")"
   ]
  },
  {
   "cell_type": "code",
   "execution_count": 12,
   "metadata": {},
   "outputs": [],
   "source": [
    "infofile=xr.open_dataset(\"./Daten/small_daily_data.nc\")"
   ]
  },
  {
   "cell_type": "code",
   "execution_count": 13,
   "metadata": {},
   "outputs": [
    {
     "data": {
      "text/plain": [
       "<xarray.Dataset>\n",
       "Dimensions:    (latitude: 3, longitude: 3, time: 14610)\n",
       "Coordinates:\n",
       "  * time       (time) datetime64[ns] 1979-01-01 1979-01-02 1979-01-03 ...\n",
       "  * longitude  (longitude) float32 11.0 12.0 13.0\n",
       "  * latitude   (latitude) float32 46.0 47.0 48.0\n",
       "Data variables:\n",
       "    r          (time, latitude, longitude) float32 ...\n",
       "    q          (time, latitude, longitude) float32 ...\n",
       "    msl        (time, latitude, longitude) float32 ..."
      ]
     },
     "execution_count": 13,
     "metadata": {},
     "output_type": "execute_result"
    }
   ],
   "source": [
    "infofile"
   ]
  },
  {
   "cell_type": "code",
   "execution_count": null,
   "metadata": {},
   "outputs": [],
   "source": []
  }
 ],
 "metadata": {
  "kernelspec": {
   "display_name": "Python 2",
   "language": "python",
   "name": "python2"
  },
  "language_info": {
   "codemirror_mode": {
    "name": "ipython",
    "version": 2
   },
   "file_extension": ".py",
   "mimetype": "text/x-python",
   "name": "python",
   "nbconvert_exporter": "python",
   "pygments_lexer": "ipython2",
   "version": "2.7.15"
  }
 },
 "nbformat": 4,
 "nbformat_minor": 2
}
