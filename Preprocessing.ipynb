{
 "cells": [
  {
   "cell_type": "code",
   "execution_count": 48,
   "metadata": {},
   "outputs": [],
   "source": [
    "import xarray as xr"
   ]
  },
  {
   "cell_type": "code",
   "execution_count": 49,
   "metadata": {},
   "outputs": [
    {
     "data": {
      "text/plain": [
       "<xarray.Dataset>\n",
       "Dimensions:    (latitude: 3, longitude: 3, time: 14610)\n",
       "Coordinates:\n",
       "  * time       (time) datetime64[ns] 1979-01-01 1979-01-02 1979-01-03 ...\n",
       "  * longitude  (longitude) float32 11.0 12.0 13.0\n",
       "  * latitude   (latitude) float32 46.0 47.0 48.0\n",
       "Data variables:\n",
       "    r          (time, latitude, longitude) float32 ...\n",
       "    q          (time, latitude, longitude) float32 ...\n",
       "    msl        (time, latitude, longitude) float32 ..."
      ]
     },
     "execution_count": 49,
     "metadata": {},
     "output_type": "execute_result"
    }
   ],
   "source": [
    "data=xr.open_dataset(\"./Daten/small_daily_data.nc\")\n",
    "data"
   ]
  },
  {
   "cell_type": "code",
   "execution_count": 50,
   "metadata": {},
   "outputs": [
    {
     "data": {
      "text/plain": [
       "<xarray.Dataset>\n",
       "Dimensions:    (dayofyear: 366, latitude: 3, longitude: 3)\n",
       "Coordinates:\n",
       "  * longitude  (longitude) float32 11.0 12.0 13.0\n",
       "  * latitude   (latitude) float32 46.0 47.0 48.0\n",
       "  * dayofyear  (dayofyear) int64 1 2 3 4 5 6 7 8 9 10 11 12 13 14 15 16 17 ...\n",
       "Data variables:\n",
       "    r          (dayofyear, latitude, longitude) float32 52.094997 52.45573 ...\n",
       "    q          (dayofyear, latitude, longitude) float32 0.0015284648 ...\n",
       "    msl        (dayofyear, latitude, longitude) float32 101903.055 ..."
      ]
     },
     "execution_count": 50,
     "metadata": {},
     "output_type": "execute_result"
    }
   ],
   "source": [
    "mean=data.rolling(time=21,center=True).mean()\n",
    "climatology=mean.groupby(\"time.dayofyear\").mean('time')\n",
    "climatology"
   ]
  },
  {
   "cell_type": "code",
   "execution_count": 51,
   "metadata": {},
   "outputs": [],
   "source": [
    "data_for_std=data.rolling(time=21,center=True).construct(\"tageplusminus\")"
   ]
  },
  {
   "cell_type": "code",
   "execution_count": 52,
   "metadata": {},
   "outputs": [],
   "source": [
    "std_dayofyear=data_for_std.groupby(\"time.dayofyear\").std()"
   ]
  },
  {
   "cell_type": "code",
   "execution_count": 53,
   "metadata": {},
   "outputs": [],
   "source": [
    "anomalies=data.groupby(\"time.dayofyear\")-climatology\n",
    "anomalies=anomalies.groupby(\"time.dayofyear\")/std_dayofyear"
   ]
  },
  {
   "cell_type": "code",
   "execution_count": 54,
   "metadata": {},
   "outputs": [
    {
     "data": {
      "text/plain": [
       "<xarray.Dataset>\n",
       "Dimensions:    (dayofyear: 366, latitude: 3, longitude: 3, time: 14610)\n",
       "Coordinates:\n",
       "  * longitude  (longitude) float32 11.0 12.0 13.0\n",
       "  * latitude   (latitude) float32 46.0 47.0 48.0\n",
       "  * time       (time) datetime64[ns] 1979-01-01 1979-01-02 1979-01-03 ...\n",
       "  * dayofyear  (dayofyear) int64 1 2 3 4 5 6 7 8 9 10 11 12 13 14 15 16 17 ...\n",
       "Data variables:\n",
       "    r          (time, latitude, longitude, dayofyear) float64 -0.1271 ...\n",
       "    q          (time, latitude, longitude, dayofyear) float64 -0.3783 ...\n",
       "    msl        (time, latitude, longitude, dayofyear) float64 -2.388 -2.406 ..."
      ]
     },
     "execution_count": 54,
     "metadata": {},
     "output_type": "execute_result"
    }
   ],
   "source": [
    "anomalies"
   ]
  },
  {
   "cell_type": "code",
   "execution_count": null,
   "metadata": {},
   "outputs": [],
   "source": []
  }
 ],
 "metadata": {
  "kernelspec": {
   "display_name": "Python 2",
   "language": "python",
   "name": "python2"
  },
  "language_info": {
   "codemirror_mode": {
    "name": "ipython",
    "version": 2
   },
   "file_extension": ".py",
   "mimetype": "text/x-python",
   "name": "python",
   "nbconvert_exporter": "python",
   "pygments_lexer": "ipython2",
   "version": "2.7.15"
  }
 },
 "nbformat": 4,
 "nbformat_minor": 2
}
